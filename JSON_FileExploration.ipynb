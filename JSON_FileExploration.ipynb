{
 "cells": [
  {
   "cell_type": "code",
   "execution_count": 37,
   "id": "051bde12",
   "metadata": {},
   "outputs": [],
   "source": [
    "import numpy as np\n",
    "import pandas as pd\n",
    "import matplotlib.pyplot as plt"
   ]
  },
  {
   "cell_type": "markdown",
   "id": "d677af29",
   "metadata": {},
   "source": [
    "## Loading the JSON Files"
   ]
  },
  {
   "cell_type": "code",
   "execution_count": 2,
   "id": "9d7bc3bd",
   "metadata": {},
   "outputs": [],
   "source": [
    "#Directories to training data and json files \n",
    "train_dir='/Users/abhimanyuwadhwa/Desktop/QMUL/MScProject/DataSet/nsynth-train-all/examples-train-original.json'\n",
    "valid_dir='/Users/abhimanyuwadhwa/Desktop/QMUL/MScProject/DataSet/nsynth-train-all/examples-valid-original.json'\n",
    "test_dir='/Users/abhimanyuwadhwa/Desktop/QMUL/MScProject/DataSet/nsynth-train-all/examples-test-original.json'"
   ]
  },
  {
   "cell_type": "code",
   "execution_count": 3,
   "id": "90fea0cb",
   "metadata": {},
   "outputs": [],
   "source": [
    "#Loading the JSON files \n",
    "df_train= pd.read_json(train_dir, orient='index')\n",
    "df_valid= pd.read_json(valid_dir, orient='index')\n",
    "df_test= pd.read_json(test_dir, orient='index')"
   ]
  },
  {
   "cell_type": "code",
   "execution_count": 4,
   "id": "ed04873d",
   "metadata": {},
   "outputs": [
    {
     "data": {
      "text/html": [
       "<div>\n",
       "<style scoped>\n",
       "    .dataframe tbody tr th:only-of-type {\n",
       "        vertical-align: middle;\n",
       "    }\n",
       "\n",
       "    .dataframe tbody tr th {\n",
       "        vertical-align: top;\n",
       "    }\n",
       "\n",
       "    .dataframe thead th {\n",
       "        text-align: right;\n",
       "    }\n",
       "</style>\n",
       "<table border=\"1\" class=\"dataframe\">\n",
       "  <thead>\n",
       "    <tr style=\"text-align: right;\">\n",
       "      <th></th>\n",
       "      <th>note</th>\n",
       "      <th>sample_rate</th>\n",
       "      <th>pitch</th>\n",
       "      <th>instrument_source</th>\n",
       "      <th>instrument_family_str</th>\n",
       "      <th>instrument_str</th>\n",
       "      <th>note_str</th>\n",
       "      <th>qualities_str</th>\n",
       "      <th>instrument_source_str</th>\n",
       "      <th>velocity</th>\n",
       "      <th>instrument_family</th>\n",
       "      <th>instrument</th>\n",
       "      <th>qualities</th>\n",
       "    </tr>\n",
       "  </thead>\n",
       "  <tbody>\n",
       "    <tr>\n",
       "      <th>guitar_acoustic_001-082-050</th>\n",
       "      <td>16629</td>\n",
       "      <td>16000</td>\n",
       "      <td>82</td>\n",
       "      <td>0</td>\n",
       "      <td>guitar</td>\n",
       "      <td>guitar_acoustic_001</td>\n",
       "      <td>guitar_acoustic_001-082-050</td>\n",
       "      <td>[percussive]</td>\n",
       "      <td>acoustic</td>\n",
       "      <td>50</td>\n",
       "      <td>3</td>\n",
       "      <td>39</td>\n",
       "      <td>[0, 0, 0, 0, 0, 0, 0, 1, 0, 0]</td>\n",
       "    </tr>\n",
       "    <tr>\n",
       "      <th>bass_synthetic_120-108-050</th>\n",
       "      <td>168243</td>\n",
       "      <td>16000</td>\n",
       "      <td>108</td>\n",
       "      <td>2</td>\n",
       "      <td>bass</td>\n",
       "      <td>bass_synthetic_120</td>\n",
       "      <td>bass_synthetic_120-108-050</td>\n",
       "      <td>[percussive]</td>\n",
       "      <td>synthetic</td>\n",
       "      <td>50</td>\n",
       "      <td>0</td>\n",
       "      <td>881</td>\n",
       "      <td>[0, 0, 0, 0, 0, 0, 0, 1, 0, 0]</td>\n",
       "    </tr>\n",
       "  </tbody>\n",
       "</table>\n",
       "</div>"
      ],
      "text/plain": [
       "                               note  sample_rate  pitch  instrument_source  \\\n",
       "guitar_acoustic_001-082-050   16629        16000     82                  0   \n",
       "bass_synthetic_120-108-050   168243        16000    108                  2   \n",
       "\n",
       "                            instrument_family_str       instrument_str  \\\n",
       "guitar_acoustic_001-082-050                guitar  guitar_acoustic_001   \n",
       "bass_synthetic_120-108-050                   bass   bass_synthetic_120   \n",
       "\n",
       "                                                note_str qualities_str  \\\n",
       "guitar_acoustic_001-082-050  guitar_acoustic_001-082-050  [percussive]   \n",
       "bass_synthetic_120-108-050    bass_synthetic_120-108-050  [percussive]   \n",
       "\n",
       "                            instrument_source_str  velocity  \\\n",
       "guitar_acoustic_001-082-050              acoustic        50   \n",
       "bass_synthetic_120-108-050              synthetic        50   \n",
       "\n",
       "                             instrument_family  instrument  \\\n",
       "guitar_acoustic_001-082-050                  3          39   \n",
       "bass_synthetic_120-108-050                   0         881   \n",
       "\n",
       "                                                  qualities  \n",
       "guitar_acoustic_001-082-050  [0, 0, 0, 0, 0, 0, 0, 1, 0, 0]  \n",
       "bass_synthetic_120-108-050   [0, 0, 0, 0, 0, 0, 0, 1, 0, 0]  "
      ]
     },
     "execution_count": 4,
     "metadata": {},
     "output_type": "execute_result"
    }
   ],
   "source": [
    "#Let us print the first two rows of the dataframe\n",
    "df_train.head(2)"
   ]
  },
  {
   "cell_type": "code",
   "execution_count": 5,
   "id": "6550b62e",
   "metadata": {},
   "outputs": [
    {
     "data": {
      "text/plain": [
       "(289205, 13)"
      ]
     },
     "execution_count": 5,
     "metadata": {},
     "output_type": "execute_result"
    }
   ],
   "source": [
    "#printing the dimensions of the df\n",
    "df_train.shape"
   ]
  },
  {
   "cell_type": "code",
   "execution_count": 6,
   "id": "41dd0c0a",
   "metadata": {},
   "outputs": [
    {
     "data": {
      "text/plain": [
       "note                     False\n",
       "sample_rate              False\n",
       "pitch                    False\n",
       "instrument_source        False\n",
       "instrument_family_str    False\n",
       "instrument_str           False\n",
       "note_str                 False\n",
       "qualities_str            False\n",
       "instrument_source_str    False\n",
       "velocity                 False\n",
       "instrument_family        False\n",
       "instrument               False\n",
       "qualities                False\n",
       "dtype: bool"
      ]
     },
     "execution_count": 6,
     "metadata": {},
     "output_type": "execute_result"
    }
   ],
   "source": [
    "#checking for missing values, if any\n",
    "df_train.isna().any(axis=0)"
   ]
  },
  {
   "cell_type": "code",
   "execution_count": 7,
   "id": "8c90aae6",
   "metadata": {},
   "outputs": [
    {
     "data": {
      "text/html": [
       "<div>\n",
       "<style scoped>\n",
       "    .dataframe tbody tr th:only-of-type {\n",
       "        vertical-align: middle;\n",
       "    }\n",
       "\n",
       "    .dataframe tbody tr th {\n",
       "        vertical-align: top;\n",
       "    }\n",
       "\n",
       "    .dataframe thead th {\n",
       "        text-align: right;\n",
       "    }\n",
       "</style>\n",
       "<table border=\"1\" class=\"dataframe\">\n",
       "  <thead>\n",
       "    <tr style=\"text-align: right;\">\n",
       "      <th></th>\n",
       "      <th>note_str</th>\n",
       "      <th>sample_rate</th>\n",
       "      <th>qualities_str</th>\n",
       "      <th>instrument_source</th>\n",
       "      <th>instrument_family_str</th>\n",
       "      <th>instrument_family</th>\n",
       "      <th>note</th>\n",
       "      <th>instrument_source_str</th>\n",
       "      <th>qualities</th>\n",
       "      <th>pitch</th>\n",
       "      <th>instrument_str</th>\n",
       "      <th>instrument</th>\n",
       "      <th>velocity</th>\n",
       "    </tr>\n",
       "  </thead>\n",
       "  <tbody>\n",
       "    <tr>\n",
       "      <th>keyboard_acoustic_004-060-025</th>\n",
       "      <td>keyboard_acoustic_004-060-025</td>\n",
       "      <td>16000</td>\n",
       "      <td>[dark, reverb]</td>\n",
       "      <td>0</td>\n",
       "      <td>keyboard</td>\n",
       "      <td>4</td>\n",
       "      <td>278915</td>\n",
       "      <td>acoustic</td>\n",
       "      <td>[0, 1, 0, 0, 0, 0, 0, 0, 1, 0]</td>\n",
       "      <td>60</td>\n",
       "      <td>keyboard_acoustic_004</td>\n",
       "      <td>327</td>\n",
       "      <td>25</td>\n",
       "    </tr>\n",
       "    <tr>\n",
       "      <th>bass_synthetic_033-050-100</th>\n",
       "      <td>bass_synthetic_033-050-100</td>\n",
       "      <td>16000</td>\n",
       "      <td>[dark]</td>\n",
       "      <td>2</td>\n",
       "      <td>bass</td>\n",
       "      <td>0</td>\n",
       "      <td>270361</td>\n",
       "      <td>synthetic</td>\n",
       "      <td>[0, 1, 0, 0, 0, 0, 0, 0, 0, 0]</td>\n",
       "      <td>50</td>\n",
       "      <td>bass_synthetic_033</td>\n",
       "      <td>417</td>\n",
       "      <td>100</td>\n",
       "    </tr>\n",
       "  </tbody>\n",
       "</table>\n",
       "</div>"
      ],
      "text/plain": [
       "                                                    note_str  sample_rate  \\\n",
       "keyboard_acoustic_004-060-025  keyboard_acoustic_004-060-025        16000   \n",
       "bass_synthetic_033-050-100        bass_synthetic_033-050-100        16000   \n",
       "\n",
       "                                qualities_str  instrument_source  \\\n",
       "keyboard_acoustic_004-060-025  [dark, reverb]                  0   \n",
       "bass_synthetic_033-050-100             [dark]                  2   \n",
       "\n",
       "                              instrument_family_str  instrument_family  \\\n",
       "keyboard_acoustic_004-060-025              keyboard                  4   \n",
       "bass_synthetic_033-050-100                     bass                  0   \n",
       "\n",
       "                                 note instrument_source_str  \\\n",
       "keyboard_acoustic_004-060-025  278915              acoustic   \n",
       "bass_synthetic_033-050-100     270361             synthetic   \n",
       "\n",
       "                                                    qualities  pitch  \\\n",
       "keyboard_acoustic_004-060-025  [0, 1, 0, 0, 0, 0, 0, 0, 1, 0]     60   \n",
       "bass_synthetic_033-050-100     [0, 1, 0, 0, 0, 0, 0, 0, 0, 0]     50   \n",
       "\n",
       "                                      instrument_str  instrument  velocity  \n",
       "keyboard_acoustic_004-060-025  keyboard_acoustic_004         327        25  \n",
       "bass_synthetic_033-050-100        bass_synthetic_033         417       100  "
      ]
     },
     "execution_count": 7,
     "metadata": {},
     "output_type": "execute_result"
    }
   ],
   "source": [
    "#a look at first two rows of the validation dataframe\n",
    "df_valid.head(2)"
   ]
  },
  {
   "cell_type": "code",
   "execution_count": 8,
   "id": "fb5e83c6",
   "metadata": {},
   "outputs": [
    {
     "data": {
      "text/plain": [
       "(12678, 13)"
      ]
     },
     "execution_count": 8,
     "metadata": {},
     "output_type": "execute_result"
    }
   ],
   "source": [
    "#printing it's dimensions\n",
    "df_valid.shape"
   ]
  },
  {
   "cell_type": "code",
   "execution_count": 9,
   "id": "d76b555b",
   "metadata": {},
   "outputs": [
    {
     "data": {
      "text/plain": [
       "note_str                 False\n",
       "sample_rate              False\n",
       "qualities_str            False\n",
       "instrument_source        False\n",
       "instrument_family_str    False\n",
       "instrument_family        False\n",
       "note                     False\n",
       "instrument_source_str    False\n",
       "qualities                False\n",
       "pitch                    False\n",
       "instrument_str           False\n",
       "instrument               False\n",
       "velocity                 False\n",
       "dtype: bool"
      ]
     },
     "execution_count": 9,
     "metadata": {},
     "output_type": "execute_result"
    }
   ],
   "source": [
    "#checking for missing values, if any\n",
    "df_valid.isna().any(axis=0)"
   ]
  },
  {
   "cell_type": "code",
   "execution_count": 10,
   "id": "468d5de0",
   "metadata": {},
   "outputs": [
    {
     "data": {
      "text/html": [
       "<div>\n",
       "<style scoped>\n",
       "    .dataframe tbody tr th:only-of-type {\n",
       "        vertical-align: middle;\n",
       "    }\n",
       "\n",
       "    .dataframe tbody tr th {\n",
       "        vertical-align: top;\n",
       "    }\n",
       "\n",
       "    .dataframe thead th {\n",
       "        text-align: right;\n",
       "    }\n",
       "</style>\n",
       "<table border=\"1\" class=\"dataframe\">\n",
       "  <thead>\n",
       "    <tr style=\"text-align: right;\">\n",
       "      <th></th>\n",
       "      <th>qualities</th>\n",
       "      <th>pitch</th>\n",
       "      <th>note</th>\n",
       "      <th>instrument_source_str</th>\n",
       "      <th>velocity</th>\n",
       "      <th>instrument_str</th>\n",
       "      <th>instrument</th>\n",
       "      <th>sample_rate</th>\n",
       "      <th>qualities_str</th>\n",
       "      <th>instrument_source</th>\n",
       "      <th>note_str</th>\n",
       "      <th>instrument_family</th>\n",
       "      <th>instrument_family_str</th>\n",
       "    </tr>\n",
       "  </thead>\n",
       "  <tbody>\n",
       "    <tr>\n",
       "      <th>bass_synthetic_068-049-025</th>\n",
       "      <td>[0, 1, 0, 0, 0, 0, 0, 0, 0, 0]</td>\n",
       "      <td>49</td>\n",
       "      <td>217499</td>\n",
       "      <td>synthetic</td>\n",
       "      <td>25</td>\n",
       "      <td>bass_synthetic_068</td>\n",
       "      <td>656</td>\n",
       "      <td>16000</td>\n",
       "      <td>[dark]</td>\n",
       "      <td>2</td>\n",
       "      <td>bass_synthetic_068-049-025</td>\n",
       "      <td>0</td>\n",
       "      <td>bass</td>\n",
       "    </tr>\n",
       "    <tr>\n",
       "      <th>keyboard_electronic_001-021-127</th>\n",
       "      <td>[0, 0, 0, 0, 0, 0, 0, 0, 0, 0]</td>\n",
       "      <td>21</td>\n",
       "      <td>299359</td>\n",
       "      <td>electronic</td>\n",
       "      <td>127</td>\n",
       "      <td>keyboard_electronic_001</td>\n",
       "      <td>40</td>\n",
       "      <td>16000</td>\n",
       "      <td>[]</td>\n",
       "      <td>1</td>\n",
       "      <td>keyboard_electronic_001-021-127</td>\n",
       "      <td>4</td>\n",
       "      <td>keyboard</td>\n",
       "    </tr>\n",
       "    <tr>\n",
       "      <th>guitar_acoustic_010-066-100</th>\n",
       "      <td>[0, 0, 0, 0, 0, 0, 0, 0, 0, 0]</td>\n",
       "      <td>66</td>\n",
       "      <td>72288</td>\n",
       "      <td>acoustic</td>\n",
       "      <td>100</td>\n",
       "      <td>guitar_acoustic_010</td>\n",
       "      <td>219</td>\n",
       "      <td>16000</td>\n",
       "      <td>[]</td>\n",
       "      <td>0</td>\n",
       "      <td>guitar_acoustic_010-066-100</td>\n",
       "      <td>3</td>\n",
       "      <td>guitar</td>\n",
       "    </tr>\n",
       "    <tr>\n",
       "      <th>reed_acoustic_037-068-127</th>\n",
       "      <td>[0, 0, 0, 0, 0, 0, 0, 0, 1, 0]</td>\n",
       "      <td>68</td>\n",
       "      <td>22259</td>\n",
       "      <td>acoustic</td>\n",
       "      <td>127</td>\n",
       "      <td>reed_acoustic_037</td>\n",
       "      <td>387</td>\n",
       "      <td>16000</td>\n",
       "      <td>[reverb]</td>\n",
       "      <td>0</td>\n",
       "      <td>reed_acoustic_037-068-127</td>\n",
       "      <td>7</td>\n",
       "      <td>reed</td>\n",
       "    </tr>\n",
       "    <tr>\n",
       "      <th>flute_acoustic_002-077-100</th>\n",
       "      <td>[0, 0, 0, 0, 0, 0, 0, 0, 1, 0]</td>\n",
       "      <td>77</td>\n",
       "      <td>72001</td>\n",
       "      <td>acoustic</td>\n",
       "      <td>100</td>\n",
       "      <td>flute_acoustic_002</td>\n",
       "      <td>86</td>\n",
       "      <td>16000</td>\n",
       "      <td>[reverb]</td>\n",
       "      <td>0</td>\n",
       "      <td>flute_acoustic_002-077-100</td>\n",
       "      <td>2</td>\n",
       "      <td>flute</td>\n",
       "    </tr>\n",
       "  </tbody>\n",
       "</table>\n",
       "</div>"
      ],
      "text/plain": [
       "                                                      qualities  pitch  \\\n",
       "bass_synthetic_068-049-025       [0, 1, 0, 0, 0, 0, 0, 0, 0, 0]     49   \n",
       "keyboard_electronic_001-021-127  [0, 0, 0, 0, 0, 0, 0, 0, 0, 0]     21   \n",
       "guitar_acoustic_010-066-100      [0, 0, 0, 0, 0, 0, 0, 0, 0, 0]     66   \n",
       "reed_acoustic_037-068-127        [0, 0, 0, 0, 0, 0, 0, 0, 1, 0]     68   \n",
       "flute_acoustic_002-077-100       [0, 0, 0, 0, 0, 0, 0, 0, 1, 0]     77   \n",
       "\n",
       "                                   note instrument_source_str  velocity  \\\n",
       "bass_synthetic_068-049-025       217499             synthetic        25   \n",
       "keyboard_electronic_001-021-127  299359            electronic       127   \n",
       "guitar_acoustic_010-066-100       72288              acoustic       100   \n",
       "reed_acoustic_037-068-127         22259              acoustic       127   \n",
       "flute_acoustic_002-077-100        72001              acoustic       100   \n",
       "\n",
       "                                          instrument_str  instrument  \\\n",
       "bass_synthetic_068-049-025            bass_synthetic_068         656   \n",
       "keyboard_electronic_001-021-127  keyboard_electronic_001          40   \n",
       "guitar_acoustic_010-066-100          guitar_acoustic_010         219   \n",
       "reed_acoustic_037-068-127              reed_acoustic_037         387   \n",
       "flute_acoustic_002-077-100            flute_acoustic_002          86   \n",
       "\n",
       "                                 sample_rate qualities_str  instrument_source  \\\n",
       "bass_synthetic_068-049-025             16000        [dark]                  2   \n",
       "keyboard_electronic_001-021-127        16000            []                  1   \n",
       "guitar_acoustic_010-066-100            16000            []                  0   \n",
       "reed_acoustic_037-068-127              16000      [reverb]                  0   \n",
       "flute_acoustic_002-077-100             16000      [reverb]                  0   \n",
       "\n",
       "                                                        note_str  \\\n",
       "bass_synthetic_068-049-025            bass_synthetic_068-049-025   \n",
       "keyboard_electronic_001-021-127  keyboard_electronic_001-021-127   \n",
       "guitar_acoustic_010-066-100          guitar_acoustic_010-066-100   \n",
       "reed_acoustic_037-068-127              reed_acoustic_037-068-127   \n",
       "flute_acoustic_002-077-100            flute_acoustic_002-077-100   \n",
       "\n",
       "                                 instrument_family instrument_family_str  \n",
       "bass_synthetic_068-049-025                       0                  bass  \n",
       "keyboard_electronic_001-021-127                  4              keyboard  \n",
       "guitar_acoustic_010-066-100                      3                guitar  \n",
       "reed_acoustic_037-068-127                        7                  reed  \n",
       "flute_acoustic_002-077-100                       2                 flute  "
      ]
     },
     "execution_count": 10,
     "metadata": {},
     "output_type": "execute_result"
    }
   ],
   "source": [
    "#repeating the same steps for test dataframe\n",
    "df_test.head()"
   ]
  },
  {
   "cell_type": "code",
   "execution_count": 11,
   "id": "78fb8cfd",
   "metadata": {},
   "outputs": [
    {
     "data": {
      "text/plain": [
       "(4096, 13)"
      ]
     },
     "execution_count": 11,
     "metadata": {},
     "output_type": "execute_result"
    }
   ],
   "source": [
    "df_test.shape"
   ]
  },
  {
   "cell_type": "code",
   "execution_count": 12,
   "id": "5bb74e6b",
   "metadata": {},
   "outputs": [
    {
     "data": {
      "text/plain": [
       "qualities                False\n",
       "pitch                    False\n",
       "note                     False\n",
       "instrument_source_str    False\n",
       "velocity                 False\n",
       "instrument_str           False\n",
       "instrument               False\n",
       "sample_rate              False\n",
       "qualities_str            False\n",
       "instrument_source        False\n",
       "note_str                 False\n",
       "instrument_family        False\n",
       "instrument_family_str    False\n",
       "dtype: bool"
      ]
     },
     "execution_count": 12,
     "metadata": {},
     "output_type": "execute_result"
    }
   ],
   "source": [
    "#checking for missing values, if any\n",
    "df_test.isna().any(axis=0)"
   ]
  },
  {
   "cell_type": "code",
   "execution_count": 14,
   "id": "d7574acc",
   "metadata": {},
   "outputs": [],
   "source": [
    "#verifying whether the 'sample_rate' column in all three dataframes contains the same unique values\n",
    "assert df_train['sample_rate'].unique()==df_valid['sample_rate'].unique() == df_test['sample_rate'].unique()\n",
    "\n",
    "#we do not get an assertion error, which means the values are same"
   ]
  },
  {
   "cell_type": "markdown",
   "id": "a91ceffa",
   "metadata": {},
   "source": [
    "## Feature Distribution"
   ]
  },
  {
   "cell_type": "markdown",
   "id": "8bf31b35",
   "metadata": {},
   "source": [
    " Instrument Families"
   ]
  },
  {
   "cell_type": "markdown",
   "id": "e9ed4c26",
   "metadata": {},
   "source": [
    "Note ->\n",
    "According to the original dataset, the 'instrument family' indices are given below:\n",
    "\n",
    "Index 0 = bass\n",
    "\n",
    "Index 1 = brass\n",
    "\n",
    "Index 2 = flute\n",
    "\n",
    "Index 3 = guitar\n",
    "\n",
    "Index 4 = keyboard\n",
    "\n",
    "Index 5 = mallet\n",
    "\n",
    "Index 6 = organ\n",
    "\n",
    "Index 7 = reed\n",
    "\n",
    "Index 8 = string\n",
    "\n",
    "Index 9 = synth_lead\n",
    "\n",
    "Index 10 = vocal\n",
    "\n",
    "\n"
   ]
  },
  {
   "cell_type": "code",
   "execution_count": 18,
   "id": "df513a16",
   "metadata": {},
   "outputs": [
    {
     "data": {
      "image/png": "[encoded data removed]",
      "text/plain": [
       "<Figure size 432x288 with 1 Axes>"
      ]
     },
     "metadata": {
      "needs_background": "light"
     },
     "output_type": "display_data"
    }
   ],
   "source": [
    "# Generating a list of distinct colors\n",
    "colors = plt.cm.Set3(np.linspace(0, 1, 11))\n",
    "\n",
    "# Plotting the bar chart with distinct colors\n",
    "df_train['instrument_family'].value_counts().reindex(np.arange(0, 11, 1)).plot(kind='bar', color=colors, figsize=(6, 4))\n",
    "\n",
    "# Setting the plot title, x-label, and y-label\n",
    "plt.title(\"Instrument Family Distribution for Training set\")\n",
    "plt.xlabel(\"Instrument Family Index\")\n",
    "plt.ylabel(\"Count\")\n",
    "plt.tight_layout()\n",
    "\n",
    "# plt.savefig(\"plots_JSON/dist_train.png\")\n",
    "\n",
    "# Displaying the plot\n",
    "plt.show()"
   ]
  },
  {
   "cell_type": "code",
   "execution_count": 20,
   "id": "37d126f1",
   "metadata": {},
   "outputs": [
    {
     "data": {
      "image/png": "[encoded data removed]",
      "text/plain": [
       "<Figure size 432x288 with 1 Axes>"
      ]
     },
     "metadata": {
      "needs_background": "light"
     },
     "output_type": "display_data"
    }
   ],
   "source": [
    "# Generating a list of different colors\n",
    "colors = plt.cm.Set2(np.linspace(0, 1, 11))\n",
    "\n",
    "# Plotting the bar chart with different colors\n",
    "df_valid['instrument_family'].value_counts().reindex(np.arange(0, 11, 1)).plot(kind='bar', color=colors, figsize=(6, 4))\n",
    "\n",
    "# Setting the plot title, x-label, and y-label\n",
    "plt.title(\"Instrument Family Distribution for Validation set\")\n",
    "plt.xlabel(\"Instrument Family Index\")\n",
    "plt.ylabel(\"Count\")\n",
    "plt.tight_layout()\n",
    "\n",
    "# plt.savefig(\"plots_JSON/dist_valid.png\")\n",
    "\n",
    "# Displaying the plot\n",
    "plt.show()"
   ]
  },
  {
   "cell_type": "code",
   "execution_count": 21,
   "id": "e78fd7fd",
   "metadata": {},
   "outputs": [
    {
     "data": {
      "image/png": "[encoded data removed]",
      "text/plain": [
       "<Figure size 432x288 with 1 Axes>"
      ]
     },
     "metadata": {
      "needs_background": "light"
     },
     "output_type": "display_data"
    }
   ],
   "source": [
    "# Generating a list of different colors\n",
    "colors = plt.cm.Set2(np.linspace(0, 1, 11))\n",
    "\n",
    "# Plotting the bar chart with different colors\n",
    "df_test['instrument_family'].value_counts().reindex(np.arange(0, 11, 1)).plot(kind='bar', color=colors, figsize=(6, 4))\n",
    "\n",
    "# Setting the plot title, x-label, and y-label\n",
    "plt.title(\"Instrument Family Distribution for Test set\")\n",
    "plt.xlabel(\"Instrument Family Index\")\n",
    "plt.ylabel(\"Count\")\n",
    "plt.tight_layout()\n",
    "\n",
    "# plt.savefig(\"plots_JSON/dist_valid.png\")\n",
    "\n",
    "# Displaying the plot\n",
    "plt.show()"
   ]
  },
  {
   "cell_type": "markdown",
   "id": "a9b49212",
   "metadata": {},
   "source": [
    "The Sources"
   ]
  },
  {
   "cell_type": "markdown",
   "id": "d104ce9b",
   "metadata": {},
   "source": [
    "Note ->\n",
    "According to the dataset, the 'source' indices for every audio file are represented below:\n",
    "\n",
    "Index 0 = Acoustic\n",
    "\n",
    "Index 1 = Electronic\n",
    "\n",
    "Index 2 = Synthetic"
   ]
  },
  {
   "cell_type": "code",
   "execution_count": 27,
   "id": "35dee11d",
   "metadata": {},
   "outputs": [
    {
     "data": {
      "image/png": "[encoded data removed]",
      "text/plain": [
       "<Figure size 432x288 with 1 Axes>"
      ]
     },
     "metadata": {
      "needs_background": "light"
     },
     "output_type": "display_data"
    }
   ],
   "source": [
    "custom_palette = ['#6096e6', '#fafa33', '#5eb95e']\n",
    "\n",
    "df_train['instrument_source'].value_counts().reindex(np.arange(0,3, 1)).plot(kind='bar', color=custom_palette, figsize=(6,4))\n",
    "plt.title(\"Source Distribution for Training set\")\n",
    "plt.xlabel(\"Instrument Source Index\")\n",
    "plt.ylabel(\"Count\")\n",
    "plt.tight_layout()\n",
    "#plt.savefig(\"plots_JSON/source_train.png\")\n",
    "plt.show()"
   ]
  },
  {
   "cell_type": "code",
   "execution_count": 29,
   "id": "8e7f03a5",
   "metadata": {},
   "outputs": [
    {
     "data": {
      "image/png": "[encoded data removed]",
      "text/plain": [
       "<Figure size 432x288 with 1 Axes>"
      ]
     },
     "metadata": {
      "needs_background": "light"
     },
     "output_type": "display_data"
    }
   ],
   "source": [
    "df_valid['instrument_source'].value_counts().reindex(np.arange(0,3, 1)).plot(kind='bar', color=custom_palette, figsize=(6,4))\n",
    "plt.title(\"Source Distribution for Validation set\")\n",
    "plt.xlabel(\"Instrument Source Index\")\n",
    "plt.ylabel(\"Count\")\n",
    "plt.tight_layout()\n",
    "#plt.savefig(\"plots_JSON/source_valid.png\")\n",
    "plt.show()"
   ]
  },
  {
   "cell_type": "code",
   "execution_count": 30,
   "id": "0b98e4f4",
   "metadata": {},
   "outputs": [
    {
     "data": {
      "image/png": "[encoded data removed]",
      "text/plain": [
       "<Figure size 432x288 with 1 Axes>"
      ]
     },
     "metadata": {
      "needs_background": "light"
     },
     "output_type": "display_data"
    }
   ],
   "source": [
    "df_test['instrument_source'].value_counts().reindex(np.arange(0,3, 1)).plot(kind='bar', color=custom_palette, figsize=(6,4))\n",
    "plt.title(\"Source Distribution for Testing set\")\n",
    "plt.xlabel(\"Instrumet Source Index\")\n",
    "plt.ylabel(\"Count\")\n",
    "#plt.savefig(\"plots_JSON/source_test.png\")\n",
    "plt.show()"
   ]
  },
  {
   "cell_type": "markdown",
   "id": "7c57ab44",
   "metadata": {},
   "source": [
    "## Statistics"
   ]
  },
  {
   "cell_type": "markdown",
   "id": "5683eca0",
   "metadata": {},
   "source": [
    "Now, let us take a look at the statistics of each of our created dataframes."
   ]
  },
  {
   "cell_type": "code",
   "execution_count": 31,
   "id": "e77ded66",
   "metadata": {},
   "outputs": [
    {
     "data": {
      "text/html": [
       "<div>\n",
       "<style scoped>\n",
       "    .dataframe tbody tr th:only-of-type {\n",
       "        vertical-align: middle;\n",
       "    }\n",
       "\n",
       "    .dataframe tbody tr th {\n",
       "        vertical-align: top;\n",
       "    }\n",
       "\n",
       "    .dataframe thead th {\n",
       "        text-align: right;\n",
       "    }\n",
       "</style>\n",
       "<table border=\"1\" class=\"dataframe\">\n",
       "  <thead>\n",
       "    <tr style=\"text-align: right;\">\n",
       "      <th></th>\n",
       "      <th>note</th>\n",
       "      <th>sample_rate</th>\n",
       "      <th>pitch</th>\n",
       "      <th>instrument_source</th>\n",
       "      <th>velocity</th>\n",
       "      <th>instrument_family</th>\n",
       "      <th>instrument</th>\n",
       "    </tr>\n",
       "  </thead>\n",
       "  <tbody>\n",
       "    <tr>\n",
       "      <th>count</th>\n",
       "      <td>289205.000000</td>\n",
       "      <td>289205.0</td>\n",
       "      <td>289205.000000</td>\n",
       "      <td>289205.000000</td>\n",
       "      <td>289205.000000</td>\n",
       "      <td>289205.000000</td>\n",
       "      <td>289205.000000</td>\n",
       "    </tr>\n",
       "    <tr>\n",
       "      <th>mean</th>\n",
       "      <td>153095.048277</td>\n",
       "      <td>16000.0</td>\n",
       "      <td>62.311658</td>\n",
       "      <td>0.932370</td>\n",
       "      <td>76.172504</td>\n",
       "      <td>3.866462</td>\n",
       "      <td>490.943127</td>\n",
       "    </tr>\n",
       "    <tr>\n",
       "      <th>std</th>\n",
       "      <td>88232.549732</td>\n",
       "      <td>0.0</td>\n",
       "      <td>23.082522</td>\n",
       "      <td>0.796443</td>\n",
       "      <td>36.181410</td>\n",
       "      <td>2.843398</td>\n",
       "      <td>280.813189</td>\n",
       "    </tr>\n",
       "    <tr>\n",
       "      <th>min</th>\n",
       "      <td>0.000000</td>\n",
       "      <td>16000.0</td>\n",
       "      <td>9.000000</td>\n",
       "      <td>0.000000</td>\n",
       "      <td>25.000000</td>\n",
       "      <td>0.000000</td>\n",
       "      <td>0.000000</td>\n",
       "    </tr>\n",
       "    <tr>\n",
       "      <th>25%</th>\n",
       "      <td>76755.000000</td>\n",
       "      <td>16000.0</td>\n",
       "      <td>44.000000</td>\n",
       "      <td>0.000000</td>\n",
       "      <td>50.000000</td>\n",
       "      <td>1.000000</td>\n",
       "      <td>247.000000</td>\n",
       "    </tr>\n",
       "    <tr>\n",
       "      <th>50%</th>\n",
       "      <td>153254.000000</td>\n",
       "      <td>16000.0</td>\n",
       "      <td>62.000000</td>\n",
       "      <td>1.000000</td>\n",
       "      <td>75.000000</td>\n",
       "      <td>4.000000</td>\n",
       "      <td>499.000000</td>\n",
       "    </tr>\n",
       "    <tr>\n",
       "      <th>75%</th>\n",
       "      <td>229461.000000</td>\n",
       "      <td>16000.0</td>\n",
       "      <td>80.000000</td>\n",
       "      <td>2.000000</td>\n",
       "      <td>100.000000</td>\n",
       "      <td>6.000000</td>\n",
       "      <td>732.000000</td>\n",
       "    </tr>\n",
       "    <tr>\n",
       "      <th>max</th>\n",
       "      <td>305978.000000</td>\n",
       "      <td>16000.0</td>\n",
       "      <td>120.000000</td>\n",
       "      <td>2.000000</td>\n",
       "      <td>127.000000</td>\n",
       "      <td>10.000000</td>\n",
       "      <td>1005.000000</td>\n",
       "    </tr>\n",
       "  </tbody>\n",
       "</table>\n",
       "</div>"
      ],
      "text/plain": [
       "                note  sample_rate          pitch  instrument_source  \\\n",
       "count  289205.000000     289205.0  289205.000000      289205.000000   \n",
       "mean   153095.048277      16000.0      62.311658           0.932370   \n",
       "std     88232.549732          0.0      23.082522           0.796443   \n",
       "min         0.000000      16000.0       9.000000           0.000000   \n",
       "25%     76755.000000      16000.0      44.000000           0.000000   \n",
       "50%    153254.000000      16000.0      62.000000           1.000000   \n",
       "75%    229461.000000      16000.0      80.000000           2.000000   \n",
       "max    305978.000000      16000.0     120.000000           2.000000   \n",
       "\n",
       "            velocity  instrument_family     instrument  \n",
       "count  289205.000000      289205.000000  289205.000000  \n",
       "mean       76.172504           3.866462     490.943127  \n",
       "std        36.181410           2.843398     280.813189  \n",
       "min        25.000000           0.000000       0.000000  \n",
       "25%        50.000000           1.000000     247.000000  \n",
       "50%        75.000000           4.000000     499.000000  \n",
       "75%       100.000000           6.000000     732.000000  \n",
       "max       127.000000          10.000000    1005.000000  "
      ]
     },
     "execution_count": 31,
     "metadata": {},
     "output_type": "execute_result"
    }
   ],
   "source": [
    "#for the training set\n",
    "df_train.describe()"
   ]
  },
  {
   "cell_type": "code",
   "execution_count": 32,
   "id": "9d4fc686",
   "metadata": {},
   "outputs": [
    {
     "data": {
      "text/html": [
       "<div>\n",
       "<style scoped>\n",
       "    .dataframe tbody tr th:only-of-type {\n",
       "        vertical-align: middle;\n",
       "    }\n",
       "\n",
       "    .dataframe tbody tr th {\n",
       "        vertical-align: top;\n",
       "    }\n",
       "\n",
       "    .dataframe thead th {\n",
       "        text-align: right;\n",
       "    }\n",
       "</style>\n",
       "<table border=\"1\" class=\"dataframe\">\n",
       "  <thead>\n",
       "    <tr style=\"text-align: right;\">\n",
       "      <th></th>\n",
       "      <th>pitch</th>\n",
       "      <th>note</th>\n",
       "      <th>velocity</th>\n",
       "      <th>instrument</th>\n",
       "      <th>sample_rate</th>\n",
       "      <th>instrument_source</th>\n",
       "      <th>instrument_family</th>\n",
       "    </tr>\n",
       "  </thead>\n",
       "  <tbody>\n",
       "    <tr>\n",
       "      <th>count</th>\n",
       "      <td>4096.000000</td>\n",
       "      <td>4096.000000</td>\n",
       "      <td>4096.000000</td>\n",
       "      <td>4096.000000</td>\n",
       "      <td>4096.0</td>\n",
       "      <td>4096.000000</td>\n",
       "      <td>4096.000000</td>\n",
       "    </tr>\n",
       "    <tr>\n",
       "      <th>mean</th>\n",
       "      <td>61.480713</td>\n",
       "      <td>149040.895752</td>\n",
       "      <td>75.288574</td>\n",
       "      <td>423.497070</td>\n",
       "      <td>16000.0</td>\n",
       "      <td>0.840332</td>\n",
       "      <td>3.704590</td>\n",
       "    </tr>\n",
       "    <tr>\n",
       "      <th>std</th>\n",
       "      <td>23.386504</td>\n",
       "      <td>90014.146997</td>\n",
       "      <td>35.775118</td>\n",
       "      <td>300.198066</td>\n",
       "      <td>0.0</td>\n",
       "      <td>0.799813</td>\n",
       "      <td>2.761171</td>\n",
       "    </tr>\n",
       "    <tr>\n",
       "      <th>min</th>\n",
       "      <td>9.000000</td>\n",
       "      <td>87.000000</td>\n",
       "      <td>25.000000</td>\n",
       "      <td>8.000000</td>\n",
       "      <td>16000.0</td>\n",
       "      <td>0.000000</td>\n",
       "      <td>0.000000</td>\n",
       "    </tr>\n",
       "    <tr>\n",
       "      <th>25%</th>\n",
       "      <td>42.000000</td>\n",
       "      <td>70077.500000</td>\n",
       "      <td>50.000000</td>\n",
       "      <td>123.000000</td>\n",
       "      <td>16000.0</td>\n",
       "      <td>0.000000</td>\n",
       "      <td>1.000000</td>\n",
       "    </tr>\n",
       "    <tr>\n",
       "      <th>50%</th>\n",
       "      <td>61.000000</td>\n",
       "      <td>143984.500000</td>\n",
       "      <td>75.000000</td>\n",
       "      <td>417.000000</td>\n",
       "      <td>16000.0</td>\n",
       "      <td>1.000000</td>\n",
       "      <td>4.000000</td>\n",
       "    </tr>\n",
       "    <tr>\n",
       "      <th>75%</th>\n",
       "      <td>80.000000</td>\n",
       "      <td>228438.000000</td>\n",
       "      <td>100.000000</td>\n",
       "      <td>656.000000</td>\n",
       "      <td>16000.0</td>\n",
       "      <td>2.000000</td>\n",
       "      <td>6.000000</td>\n",
       "    </tr>\n",
       "    <tr>\n",
       "      <th>max</th>\n",
       "      <td>119.000000</td>\n",
       "      <td>305832.000000</td>\n",
       "      <td>127.000000</td>\n",
       "      <td>958.000000</td>\n",
       "      <td>16000.0</td>\n",
       "      <td>2.000000</td>\n",
       "      <td>10.000000</td>\n",
       "    </tr>\n",
       "  </tbody>\n",
       "</table>\n",
       "</div>"
      ],
      "text/plain": [
       "             pitch           note     velocity   instrument  sample_rate  \\\n",
       "count  4096.000000    4096.000000  4096.000000  4096.000000       4096.0   \n",
       "mean     61.480713  149040.895752    75.288574   423.497070      16000.0   \n",
       "std      23.386504   90014.146997    35.775118   300.198066          0.0   \n",
       "min       9.000000      87.000000    25.000000     8.000000      16000.0   \n",
       "25%      42.000000   70077.500000    50.000000   123.000000      16000.0   \n",
       "50%      61.000000  143984.500000    75.000000   417.000000      16000.0   \n",
       "75%      80.000000  228438.000000   100.000000   656.000000      16000.0   \n",
       "max     119.000000  305832.000000   127.000000   958.000000      16000.0   \n",
       "\n",
       "       instrument_source  instrument_family  \n",
       "count        4096.000000        4096.000000  \n",
       "mean            0.840332           3.704590  \n",
       "std             0.799813           2.761171  \n",
       "min             0.000000           0.000000  \n",
       "25%             0.000000           1.000000  \n",
       "50%             1.000000           4.000000  \n",
       "75%             2.000000           6.000000  \n",
       "max             2.000000          10.000000  "
      ]
     },
     "execution_count": 32,
     "metadata": {},
     "output_type": "execute_result"
    }
   ],
   "source": [
    "#for the test set\n",
    "df_test.describe()"
   ]
  },
  {
   "cell_type": "code",
   "execution_count": 33,
   "id": "60d5b040",
   "metadata": {},
   "outputs": [
    {
     "data": {
      "text/html": [
       "<div>\n",
       "<style scoped>\n",
       "    .dataframe tbody tr th:only-of-type {\n",
       "        vertical-align: middle;\n",
       "    }\n",
       "\n",
       "    .dataframe tbody tr th {\n",
       "        vertical-align: top;\n",
       "    }\n",
       "\n",
       "    .dataframe thead th {\n",
       "        text-align: right;\n",
       "    }\n",
       "</style>\n",
       "<table border=\"1\" class=\"dataframe\">\n",
       "  <thead>\n",
       "    <tr style=\"text-align: right;\">\n",
       "      <th></th>\n",
       "      <th>sample_rate</th>\n",
       "      <th>instrument_source</th>\n",
       "      <th>instrument_family</th>\n",
       "      <th>note</th>\n",
       "      <th>pitch</th>\n",
       "      <th>instrument</th>\n",
       "      <th>velocity</th>\n",
       "    </tr>\n",
       "  </thead>\n",
       "  <tbody>\n",
       "    <tr>\n",
       "      <th>count</th>\n",
       "      <td>12678.0</td>\n",
       "      <td>12678.000000</td>\n",
       "      <td>12678.000000</td>\n",
       "      <td>12678.000000</td>\n",
       "      <td>12678.000000</td>\n",
       "      <td>12678.000000</td>\n",
       "      <td>12678.000000</td>\n",
       "    </tr>\n",
       "    <tr>\n",
       "      <th>mean</th>\n",
       "      <td>16000.0</td>\n",
       "      <td>0.843193</td>\n",
       "      <td>3.642530</td>\n",
       "      <td>151895.227638</td>\n",
       "      <td>61.529894</td>\n",
       "      <td>435.214308</td>\n",
       "      <td>75.334516</td>\n",
       "    </tr>\n",
       "    <tr>\n",
       "      <th>std</th>\n",
       "      <td>0.0</td>\n",
       "      <td>0.791823</td>\n",
       "      <td>2.717627</td>\n",
       "      <td>89869.132754</td>\n",
       "      <td>23.543176</td>\n",
       "      <td>302.248923</td>\n",
       "      <td>35.996326</td>\n",
       "    </tr>\n",
       "    <tr>\n",
       "      <th>min</th>\n",
       "      <td>16000.0</td>\n",
       "      <td>0.000000</td>\n",
       "      <td>0.000000</td>\n",
       "      <td>8.000000</td>\n",
       "      <td>9.000000</td>\n",
       "      <td>8.000000</td>\n",
       "      <td>25.000000</td>\n",
       "    </tr>\n",
       "    <tr>\n",
       "      <th>25%</th>\n",
       "      <td>16000.0</td>\n",
       "      <td>0.000000</td>\n",
       "      <td>1.000000</td>\n",
       "      <td>72977.250000</td>\n",
       "      <td>42.000000</td>\n",
       "      <td>123.000000</td>\n",
       "      <td>50.000000</td>\n",
       "    </tr>\n",
       "    <tr>\n",
       "      <th>50%</th>\n",
       "      <td>16000.0</td>\n",
       "      <td>1.000000</td>\n",
       "      <td>4.000000</td>\n",
       "      <td>149368.500000</td>\n",
       "      <td>60.000000</td>\n",
       "      <td>417.000000</td>\n",
       "      <td>75.000000</td>\n",
       "    </tr>\n",
       "    <tr>\n",
       "      <th>75%</th>\n",
       "      <td>16000.0</td>\n",
       "      <td>1.000000</td>\n",
       "      <td>6.000000</td>\n",
       "      <td>230152.250000</td>\n",
       "      <td>80.000000</td>\n",
       "      <td>656.000000</td>\n",
       "      <td>100.000000</td>\n",
       "    </tr>\n",
       "    <tr>\n",
       "      <th>max</th>\n",
       "      <td>16000.0</td>\n",
       "      <td>2.000000</td>\n",
       "      <td>10.000000</td>\n",
       "      <td>305977.000000</td>\n",
       "      <td>120.000000</td>\n",
       "      <td>958.000000</td>\n",
       "      <td>127.000000</td>\n",
       "    </tr>\n",
       "  </tbody>\n",
       "</table>\n",
       "</div>"
      ],
      "text/plain": [
       "       sample_rate  instrument_source  instrument_family           note  \\\n",
       "count      12678.0       12678.000000       12678.000000   12678.000000   \n",
       "mean       16000.0           0.843193           3.642530  151895.227638   \n",
       "std            0.0           0.791823           2.717627   89869.132754   \n",
       "min        16000.0           0.000000           0.000000       8.000000   \n",
       "25%        16000.0           0.000000           1.000000   72977.250000   \n",
       "50%        16000.0           1.000000           4.000000  149368.500000   \n",
       "75%        16000.0           1.000000           6.000000  230152.250000   \n",
       "max        16000.0           2.000000          10.000000  305977.000000   \n",
       "\n",
       "              pitch    instrument      velocity  \n",
       "count  12678.000000  12678.000000  12678.000000  \n",
       "mean      61.529894    435.214308     75.334516  \n",
       "std       23.543176    302.248923     35.996326  \n",
       "min        9.000000      8.000000     25.000000  \n",
       "25%       42.000000    123.000000     50.000000  \n",
       "50%       60.000000    417.000000     75.000000  \n",
       "75%       80.000000    656.000000    100.000000  \n",
       "max      120.000000    958.000000    127.000000  "
      ]
     },
     "execution_count": 33,
     "metadata": {},
     "output_type": "execute_result"
    }
   ],
   "source": [
    "#for the validation set\n",
    "df_valid.describe()"
   ]
  },
  {
   "cell_type": "markdown",
   "id": "0ea256ff",
   "metadata": {},
   "source": [
    "Let us explore how 'pitch' varies in all the three sets."
   ]
  },
  {
   "cell_type": "code",
   "execution_count": 42,
   "id": "d5a45430",
   "metadata": {},
   "outputs": [
    {
     "data": {
      "image/png": "[encoded data removed]",
      "text/plain": [
       "<Figure size 432x288 with 1 Axes>"
      ]
     },
     "metadata": {
      "needs_background": "light"
     },
     "output_type": "display_data"
    }
   ],
   "source": [
    "df_train.hist(column='pitch', grid=False, bins=127,figsize=(6,4), color='#32CD32')\n",
    "plt.title(\"Pitch Distribution: Training Set\")\n",
    "plt.ylabel(\"Count\")\n",
    "plt.xlabel(\"MIDI Pitch\")\n",
    "plt.tight_layout()\n",
    "#plt.savefig(\"plots_JSON/pitch_train\")"
   ]
  },
  {
   "cell_type": "code",
   "execution_count": 43,
   "id": "beaf3972",
   "metadata": {},
   "outputs": [
    {
     "data": {
      "image/png": "[encoded data removed]",
      "text/plain": [
       "<Figure size 432x288 with 1 Axes>"
      ]
     },
     "metadata": {
      "needs_background": "light"
     },
     "output_type": "display_data"
    }
   ],
   "source": [
    "df_test.hist(column='pitch', grid=False, bins=127,figsize=(6,4), color='#32CD32')\n",
    "plt.title(\"Pitch Distribution: Test Set\")\n",
    "plt.ylabel(\"Count\")\n",
    "plt.xlabel(\"MIDI Pitch\")\n",
    "plt.tight_layout()\n",
    "#plt.savefig(\"plots_JSON/pitch_test\")"
   ]
  },
  {
   "cell_type": "code",
   "execution_count": 44,
   "id": "71f6b1be",
   "metadata": {},
   "outputs": [
    {
     "data": {
      "image/png": "[encoded data removed]",
      "text/plain": [
       "<Figure size 432x216 with 1 Axes>"
      ]
     },
     "metadata": {
      "needs_background": "light"
     },
     "output_type": "display_data"
    }
   ],
   "source": [
    "df_valid.hist(column='pitch', grid=False, bins=127,figsize=(6,3), color='#32CD32')\n",
    "plt.title(\"Pitch Distribution: Validation Set\")\n",
    "plt.ylabel(\"Count\")\n",
    "plt.xlabel(\"MIDI Pitch\")\n",
    "plt.tight_layout()\n",
    "#plt.savefig(\"plots_JSON/pitch_valid\")"
   ]
  },
  {
   "cell_type": "code",
   "execution_count": 46,
   "id": "3b269049",
   "metadata": {},
   "outputs": [],
   "source": [
    "# let us confirm that the pitches in test and valid set are also present in training set\n",
    "#confirm that  pitches in test and valid are also present in train\n",
    "assert (set(df_valid['pitch'])).issubset((set(df_train['pitch'])))\n",
    "assert (set(df_test['pitch'])).issubset((set(df_train['pitch'])))\n",
    "\n",
    "#we do not get an assertion error"
   ]
  }
 ],
 "metadata": {
  "kernelspec": {
   "display_name": "Python 3 (ipykernel)",
   "language": "python",
   "name": "python3"
  },
  "language_info": {
   "codemirror_mode": {
    "name": "ipython",
    "version": 3
   },
   "file_extension": ".py",
   "mimetype": "text/x-python",
   "name": "python",
   "nbconvert_exporter": "python",
   "pygments_lexer": "ipython3",
   "version": "3.9.12"
  }
 },
 "nbformat": 4,
 "nbformat_minor": 5
}
